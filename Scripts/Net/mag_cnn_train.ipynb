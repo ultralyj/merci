{
 "cells": [
  {
   "cell_type": "code",
   "execution_count": null,
   "metadata": {},
   "outputs": [],
   "source": [
    "# 读取csv\n",
    "import csv\n",
    "data = []\n",
    "with open('../Data/squ2011_88.csv','rt') as f:\n",
    "    csv_reader = csv.reader(f)\n",
    "    isHeader = True                 # 判断帧头\n",
    "    for row in csv_reader:          # 将csv 文件中的数据保存到data中\n",
    "        if isHeader:\n",
    "            isHeader = False\n",
    "            continue\n",
    "        frame = {\n",
    "            'time':row[0],\n",
    "            'xyd':row[1:4],\n",
    "            'press':row[4],\n",
    "            'mag4':row[5:17]\n",
    "            }\n",
    "        data.append(frame)           # 将字典加入到data数组中\n",
    "print(\"read csv file successfully\")"
   ]
  },
  {
   "cell_type": "code",
   "execution_count": null,
   "metadata": {},
   "outputs": [],
   "source": [
    "# 获取原始数据\n",
    "import numpy as np\n",
    "\n",
    "length = len(data)\n",
    "# 获取磁场数据，触点水平位置数据和压力数据\n",
    "magnetic = []\n",
    "position = []\n",
    "press = []\n",
    "for i,frame in enumerate(data):\n",
    "    if(True):\n",
    "        press.append(float(frame['press']))\n",
    "        m = list(map(float, frame['mag4']))\n",
    "        mm = [0,0,0,0,0,0,0,0,0,0,0,0]\n",
    "        for k in range(3):\n",
    "            for r in range(4):\n",
    "                mm[r*3+k] = 2*m[k+r*3] - m[(k+1+r*3)%12] - m[k-1+r*3]\n",
    "        magnetic.append(mm)\n",
    "        position.append(list(map(float, frame['xyd'][:2])))\n",
    "\n",
    "press = np.array(press)\n",
    "magnetic = np.array(magnetic)\n",
    "position = np.array(position)"
   ]
  },
  {
   "cell_type": "code",
   "execution_count": null,
   "metadata": {},
   "outputs": [],
   "source": [
    "# 数据归一化\n",
    "from sklearn.preprocessing import MinMaxScaler\n",
    "# 创建 MinMaxScaler 对象\n",
    "scaler = MinMaxScaler()\n",
    "# 对触点位置与磁场数据进行 fit_transform 操作\n",
    "normalized_magnetic = scaler.fit_transform(magnetic)\n",
    "\n",
    "normalized_position = scaler.fit_transform(position)\n",
    "normalized_press = (press - np.min(press))/(np.max(press) - np.min(press))\n",
    "print(np.max(press) - np.min(press))"
   ]
  },
  {
   "cell_type": "code",
   "execution_count": null,
   "metadata": {},
   "outputs": [],
   "source": [
    "from keras.models import Sequential\n",
    "from keras.layers import LSTM, Dense, Conv1D, MaxPooling1D, Flatten, Dropout\n",
    "\n",
    "# 建立 CNN 模型\n",
    "model = Sequential()\n",
    "# 卷积层1，卷积核大小为3，激活函数为relu\n",
    "model.add(Conv1D(filters=32, kernel_size=3, activation='relu', input_shape=(12, 1)))\n",
    "# 池化层1\n",
    "model.add(MaxPooling1D(pool_size=2))\n",
    "# 卷积层2，卷积核大小为3，激活函数为relu\n",
    "model.add(Conv1D(filters=64, kernel_size=3, activation='relu'))\n",
    "# 池化层2\n",
    "model.add(MaxPooling1D(pool_size=2))\n",
    "# 将数据展平成一维向量\n",
    "model.add(Flatten())\n",
    "model.add(Dense(64))\n",
    "model.add(Dropout(0.5))\n",
    "model.add(Dense(2, activation='linear'))\n",
    "\n",
    "model.summary()\n"
   ]
  },
  {
   "cell_type": "code",
   "execution_count": null,
   "metadata": {},
   "outputs": [],
   "source": [
    "from sklearn.model_selection import train_test_split\n",
    "import keras\n",
    "\n",
    "# 划分训练集和测试集\n",
    "train_x, test_x, train_y, test_y = train_test_split(\n",
    "    normalized_magnetic, position, test_size = 0.20, random_state = 42)\n",
    "\n",
    "# model = keras.models.load_model(\"./cnn_server/stm32.h5\")\n",
    "# 编译模型\n",
    "model.compile(loss='mse', \n",
    "              optimizer='adam',\n",
    "              metrics='mae')\n",
    "# 训练模型\n",
    "history = model.fit(\n",
    "    train_x, \n",
    "    train_y, \n",
    "    sample_weight = None,\n",
    "    epochs=100, \n",
    "    batch_size=64, \n",
    "    verbose=2,\n",
    "    validation_data=(test_x, test_y))\n",
    "# model.save(\"./position_model_with_weight.h5\")"
   ]
  },
  {
   "cell_type": "code",
   "execution_count": null,
   "metadata": {},
   "outputs": [],
   "source": [
    "import matplotlib.pyplot as plt\n",
    "\n",
    "epochs=range(len(history.history['mae']))\n",
    "plt.figure()\n",
    "plt.plot(epochs,history.history['mae'],'b',label='Training MAE')\n",
    "plt.plot(epochs,history.history['val_mae'],'r',label='Validation MAE')\n",
    "plt.title('Traing and Validation Mean Absolute Error')\n",
    "plt.legend()\n",
    "\n",
    "plt.figure()\n",
    "plt.plot(epochs,history.history['loss'],'b',label='Training loss')\n",
    "plt.plot(epochs,history.history['val_loss'],'r',label='Validation val_loss')\n",
    "plt.title('Traing and Validation loss')\n",
    "plt.legend()\n"
   ]
  }
 ],
 "metadata": {
  "kernelspec": {
   "display_name": "magnn",
   "language": "python",
   "name": "python3"
  },
  "language_info": {
   "codemirror_mode": {
    "name": "ipython",
    "version": 3
   },
   "file_extension": ".py",
   "mimetype": "text/x-python",
   "name": "python",
   "nbconvert_exporter": "python",
   "pygments_lexer": "ipython3",
   "version": "3.8.16"
  },
  "orig_nbformat": 4
 },
 "nbformat": 4,
 "nbformat_minor": 2
}

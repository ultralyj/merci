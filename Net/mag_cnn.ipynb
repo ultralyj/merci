{
 "cells": [
  {
   "cell_type": "code",
   "execution_count": 21,
   "metadata": {},
   "outputs": [
    {
     "name": "stdout",
     "output_type": "stream",
     "text": [
      "read csv file successfully\n"
     ]
    }
   ],
   "source": [
    "# 读取csv\n",
    "import csv\n",
    "data = []\n",
    "with open('../Calibration/data/squ2011_88.csv','rt') as f:\n",
    "    csv_reader = csv.reader(f)\n",
    "    isHeader = True                 # 判断帧头\n",
    "    for row in csv_reader:          # 将csv 文件中的数据保存到data中\n",
    "        if isHeader:\n",
    "            isHeader = False\n",
    "            continue\n",
    "        frame = {\n",
    "            'time':row[0],\n",
    "            'xyd':row[1:4],\n",
    "            'press':row[4],\n",
    "            'mag4':row[5:17]\n",
    "            }\n",
    "        data.append(frame)           # 将字典加入到data数组中\n",
    "print(\"read csv file successfully\")"
   ]
  },
  {
   "cell_type": "code",
   "execution_count": 22,
   "metadata": {},
   "outputs": [
    {
     "name": "stdout",
     "output_type": "stream",
     "text": [
      "[[ -2.4   -4.5  341.22 ... 108.   111.9  380.91]\n",
      " [ -1.2   -3.3  338.8  ... 110.4  111.3  380.91]\n",
      " [ -2.7   -3.6  342.67 ... 110.7  111.3  379.94]\n",
      " ...\n",
      " [  7.5   -5.1  343.64 ... 114.9  107.4  373.16]\n",
      " [ 10.2   -6.9  342.67 ... 119.4  105.3  377.52]\n",
      " [  6.9   -5.4  340.25 ... 119.1  106.2  375.58]]\n",
      "[[ 0.  0.]\n",
      " [ 0.  0.]\n",
      " [ 0.  0.]\n",
      " ...\n",
      " [20. 20.]\n",
      " [20. 20.]\n",
      " [20. 20.]]\n"
     ]
    }
   ],
   "source": [
    "import numpy as np\n",
    "\n",
    "length = len(data)\n",
    "# 获取磁场数据，触点水平位置数据和压力数据\n",
    "magnetic = np.zeros((length,12))\n",
    "position = np.zeros((length,2))\n",
    "for i,frame in enumerate(data):\n",
    "    magnetic[i] = frame['mag4']\n",
    "    position[i] = frame['xyd'][:2]\n",
    "    \n",
    "print(magnetic)\n",
    "print(position)"
   ]
  },
  {
   "cell_type": "code",
   "execution_count": 23,
   "metadata": {},
   "outputs": [],
   "source": [
    "# 数据归一化\n",
    "from sklearn.preprocessing import MinMaxScaler\n",
    "# 创建 MinMaxScaler 对象\n",
    "scaler = MinMaxScaler()\n",
    "# 对触点位置与磁场数据进行 fit_transform 操作\n",
    "normalized_magnetic = scaler.fit_transform(magnetic)\n",
    "normalized_position = scaler.fit_transform(position)"
   ]
  },
  {
   "cell_type": "code",
   "execution_count": 24,
   "metadata": {},
   "outputs": [
    {
     "name": "stdout",
     "output_type": "stream",
     "text": [
      "Epoch 1/10\n",
      "454/454 - 5s - loss: 0.0792 - mae: 0.2305 - val_loss: 0.0549 - val_mae: 0.1912 - 5s/epoch - 11ms/step\n",
      "Epoch 2/10\n",
      "454/454 - 2s - loss: 0.0527 - mae: 0.1820 - val_loss: 0.0520 - val_mae: 0.1705 - 2s/epoch - 5ms/step\n",
      "Epoch 3/10\n",
      "454/454 - 2s - loss: 0.0352 - mae: 0.1446 - val_loss: 0.0264 - val_mae: 0.1217 - 2s/epoch - 5ms/step\n",
      "Epoch 4/10\n",
      "454/454 - 2s - loss: 0.0253 - mae: 0.1225 - val_loss: 0.0230 - val_mae: 0.1171 - 2s/epoch - 5ms/step\n",
      "Epoch 5/10\n",
      "454/454 - 2s - loss: 0.0218 - mae: 0.1138 - val_loss: 0.0226 - val_mae: 0.1173 - 2s/epoch - 5ms/step\n",
      "Epoch 6/10\n",
      "454/454 - 2s - loss: 0.0188 - mae: 0.1049 - val_loss: 0.0191 - val_mae: 0.1050 - 2s/epoch - 5ms/step\n",
      "Epoch 7/10\n",
      "454/454 - 2s - loss: 0.0170 - mae: 0.0994 - val_loss: 0.0148 - val_mae: 0.0927 - 2s/epoch - 5ms/step\n",
      "Epoch 8/10\n",
      "454/454 - 2s - loss: 0.0151 - mae: 0.0934 - val_loss: 0.0156 - val_mae: 0.0940 - 2s/epoch - 5ms/step\n",
      "Epoch 9/10\n",
      "454/454 - 2s - loss: 0.0143 - mae: 0.0904 - val_loss: 0.0134 - val_mae: 0.0878 - 2s/epoch - 5ms/step\n",
      "Epoch 10/10\n",
      "454/454 - 2s - loss: 0.0136 - mae: 0.0878 - val_loss: 0.0119 - val_mae: 0.0822 - 2s/epoch - 5ms/step\n",
      "227/227 [==============================] - 1s 2ms/step\n",
      "[[0.5027814  0.20450586]\n",
      " [0.798351   0.06019689]\n",
      " [0.58414173 0.76149046]\n",
      " ...\n",
      " [0.31314626 0.27879578]\n",
      " [0.4906676  0.9381728 ]\n",
      " [0.9166646  0.38634402]]\n",
      "[[0.5 0.2]\n",
      " [0.8 0.2]\n",
      " [0.5 0.7]\n",
      " ...\n",
      " [0.3 0.3]\n",
      " [0.5 0.9]\n",
      " [1.  0.5]]\n"
     ]
    }
   ],
   "source": [
    "from sklearn.model_selection import train_test_split\n",
    "from keras.models import Sequential\n",
    "from keras.layers import LSTM, Dense\n",
    "\n",
    "# 划分训练集和测试集\n",
    "train_x, test_x, train_y, test_y = train_test_split(\n",
    "    normalized_magnetic, normalized_position, test_size = 0.20, random_state = 42)\n",
    "\n",
    "# 建立 LSTM 模型\n",
    "model = Sequential()\n",
    "model.add(LSTM(64, input_shape=(12, 1)))\n",
    "model.add(Dense(32))\n",
    "model.add(Dense(2))\n",
    "\n",
    "# 编译模型\n",
    "model.compile(loss='mse', \n",
    "              optimizer='adam',\n",
    "              metrics='mae')\n",
    "\n",
    "# 训练模型\n",
    "model.fit(\n",
    "    train_x, \n",
    "    train_y, \n",
    "    epochs=10, \n",
    "    batch_size=64, \n",
    "    verbose=2,\n",
    "    validation_data=(test_x, test_y))\n",
    "\n",
    "# 测试模型\n",
    "predict = model.predict(test_x)\n",
    "\n",
    "# 打印预测结果\n",
    "print(predict)\n",
    "print(test_y)"
   ]
  },
  {
   "cell_type": "code",
   "execution_count": 26,
   "metadata": {},
   "outputs": [
    {
     "name": "stdout",
     "output_type": "stream",
     "text": [
      "[[ 0.5027814   0.20450586]\n",
      " [ 0.798351    0.06019689]\n",
      " [ 0.58414173  0.76149046]\n",
      " [ 0.35240614 -0.04938456]\n",
      " [ 0.59354377  0.26520303]]\n",
      "[[0.5 0.2]\n",
      " [0.8 0.2]\n",
      " [0.5 0.7]\n",
      " [0.4 0. ]\n",
      " [0.6 0.3]]\n"
     ]
    }
   ],
   "source": [
    "print(predict[:5,])\n",
    "print(test_y[:5,])"
   ]
  }
 ],
 "metadata": {
  "kernelspec": {
   "display_name": "magnn",
   "language": "python",
   "name": "python3"
  },
  "language_info": {
   "codemirror_mode": {
    "name": "ipython",
    "version": 3
   },
   "file_extension": ".py",
   "mimetype": "text/x-python",
   "name": "python",
   "nbconvert_exporter": "python",
   "pygments_lexer": "ipython3",
   "version": "3.8.16"
  },
  "orig_nbformat": 4
 },
 "nbformat": 4,
 "nbformat_minor": 2
}
